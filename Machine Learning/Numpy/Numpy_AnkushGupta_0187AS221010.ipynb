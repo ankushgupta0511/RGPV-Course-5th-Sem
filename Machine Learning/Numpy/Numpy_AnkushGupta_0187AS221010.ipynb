{
 "cells": [
  {
   "cell_type": "markdown",
   "id": "38ea6d6b",
   "metadata": {},
   "source": [
    "# Numpy Experiment"
   ]
  },
  {
   "cell_type": "code",
   "execution_count": 1,
   "id": "fc727f65",
   "metadata": {},
   "outputs": [],
   "source": [
    "import numpy as np"
   ]
  },
  {
   "cell_type": "code",
   "execution_count": 2,
   "id": "2c75920f",
   "metadata": {},
   "outputs": [
    {
     "name": "stdout",
     "output_type": "stream",
     "text": [
      "[1, 2, 3, 4, 5, 6, 7, 8]\n",
      "<class 'list'>\n"
     ]
    }
   ],
   "source": [
    "a = [1,2,3,4,5,6,7,8]\n",
    "print(a)\n",
    "print(type(a))"
   ]
  },
  {
   "cell_type": "code",
   "execution_count": 3,
   "id": "cfc32677",
   "metadata": {},
   "outputs": [
    {
     "name": "stdout",
     "output_type": "stream",
     "text": [
      "[1 2 3 4 5 6 7 8]\n",
      "<class 'numpy.ndarray'>\n"
     ]
    }
   ],
   "source": [
    "a = np.array([1,2,3,4,5,6,7,8])\n",
    "print(a)\n",
    "print(type(a))"
   ]
  },
  {
   "cell_type": "markdown",
   "id": "d7e9878b",
   "metadata": {},
   "source": [
    "# ndim"
   ]
  },
  {
   "cell_type": "code",
   "execution_count": 4,
   "id": "1fc60a66",
   "metadata": {},
   "outputs": [
    {
     "data": {
      "text/plain": [
       "1"
      ]
     },
     "execution_count": 4,
     "metadata": {},
     "output_type": "execute_result"
    }
   ],
   "source": [
    "a.ndim"
   ]
  },
  {
   "cell_type": "code",
   "execution_count": 5,
   "id": "eaf435bb",
   "metadata": {},
   "outputs": [
    {
     "name": "stdout",
     "output_type": "stream",
     "text": [
      "[[1 2 3]\n",
      " [4 5 6]\n",
      " [7 8 9]]\n",
      "<class 'numpy.ndarray'>\n",
      "2\n"
     ]
    }
   ],
   "source": [
    "arr_2D = np.array([[1,2,3],[4,5,6],[7,8,9]])\n",
    "print(arr_2D)\n",
    "print(type(arr_2D))\n",
    "print(arr_2D.ndim)"
   ]
  },
  {
   "cell_type": "code",
   "execution_count": 13,
   "id": "f49400a3",
   "metadata": {},
   "outputs": [
    {
     "name": "stdout",
     "output_type": "stream",
     "text": [
      "[[[1 2 3]\n",
      "  [4 5 6]\n",
      "  [7 8 9]]\n",
      "\n",
      " [[1 2 3]\n",
      "  [4 5 6]\n",
      "  [7 8 9]]]\n",
      "<class 'numpy.ndarray'>\n",
      "3\n"
     ]
    }
   ],
   "source": [
    "arr_3D = np.array([[[1,2,3],[4,5,6],[7,8,9]],[[1,2,3],[4,5,6],[7,8,9]]])\n",
    "print(arr_3D)\n",
    "print(type(arr_3D))\n",
    "print(arr_3D.ndim)"
   ]
  },
  {
   "cell_type": "code",
   "execution_count": 26,
   "id": "cba5a1d2",
   "metadata": {},
   "outputs": [
    {
     "name": "stdout",
     "output_type": "stream",
     "text": [
      "[[1 1 1 1 1]\n",
      " [2 2 2 2 2]\n",
      " [3 3 3 3 3]\n",
      " [4 4 4 4 4]\n",
      " [5 5 5 5 5]]\n",
      "<class 'numpy.ndarray'>\n",
      "2\n"
     ]
    }
   ],
   "source": [
    "arr_5D = np.array([[1,1,1,1,1],[2,2,2,2,2],[3,3,3,3,3],[4,4,4,4,4],[5,5,5,5,5]])\n",
    "print(arr_5D)\n",
    "print(type(arr_5D))\n",
    "print(arr_5D.ndim)  # 5 X 5 matrix"
   ]
  },
  {
   "cell_type": "code",
   "execution_count": 27,
   "id": "32a51b1a",
   "metadata": {},
   "outputs": [
    {
     "name": "stdout",
     "output_type": "stream",
     "text": [
      "[[[0 0]\n",
      "  [1 1]]\n",
      "\n",
      " [[2 2]\n",
      "  [3 3]]\n",
      "\n",
      " [[4 4]\n",
      "  [5 5]]]\n",
      "<class 'numpy.ndarray'>\n",
      "3\n"
     ]
    }
   ],
   "source": [
    "arr = np.array([[[0,0],[1,1]],[[2,2],[3,3]],[[4,4],[5,5]]])\n",
    "print(arr)\n",
    "print(type(arr))\n",
    "print(arr.ndim)    #  '3 X 2 X 2'  matrix"
   ]
  },
  {
   "cell_type": "markdown",
   "id": "af8ebffe",
   "metadata": {},
   "source": [
    "# size(show element no)"
   ]
  },
  {
   "cell_type": "code",
   "execution_count": 30,
   "id": "d5da7a97",
   "metadata": {},
   "outputs": [
    {
     "data": {
      "text/plain": [
       "9"
      ]
     },
     "execution_count": 30,
     "metadata": {},
     "output_type": "execute_result"
    }
   ],
   "source": [
    "arr_2D.size"
   ]
  },
  {
   "cell_type": "code",
   "execution_count": 31,
   "id": "5cf0379e",
   "metadata": {},
   "outputs": [
    {
     "data": {
      "text/plain": [
       "12"
      ]
     },
     "execution_count": 31,
     "metadata": {},
     "output_type": "execute_result"
    }
   ],
   "source": [
    "arr.size"
   ]
  },
  {
   "cell_type": "markdown",
   "id": "6aaa2d25",
   "metadata": {},
   "source": [
    "# shape show no of rows"
   ]
  },
  {
   "cell_type": "code",
   "execution_count": 35,
   "id": "d4a99137",
   "metadata": {},
   "outputs": [
    {
     "data": {
      "text/plain": [
       "(3, 3)"
      ]
     },
     "execution_count": 35,
     "metadata": {},
     "output_type": "execute_result"
    }
   ],
   "source": [
    "arr_2D.shape"
   ]
  },
  {
   "cell_type": "code",
   "execution_count": 36,
   "id": "5461ed0f",
   "metadata": {},
   "outputs": [
    {
     "data": {
      "text/plain": [
       "(5, 5)"
      ]
     },
     "execution_count": 36,
     "metadata": {},
     "output_type": "execute_result"
    }
   ],
   "source": [
    "arr_5D.shape"
   ]
  },
  {
   "cell_type": "code",
   "execution_count": 34,
   "id": "26ee5a59",
   "metadata": {},
   "outputs": [
    {
     "data": {
      "text/plain": [
       "(3, 2, 2)"
      ]
     },
     "execution_count": 34,
     "metadata": {},
     "output_type": "execute_result"
    }
   ],
   "source": [
    "arr.shape"
   ]
  },
  {
   "cell_type": "markdown",
   "id": "71e43142",
   "metadata": {},
   "source": [
    "# dtype :- show data type of array"
   ]
  },
  {
   "cell_type": "code",
   "execution_count": 37,
   "id": "9bb6c15e",
   "metadata": {},
   "outputs": [
    {
     "data": {
      "text/plain": [
       "dtype('int32')"
      ]
     },
     "execution_count": 37,
     "metadata": {},
     "output_type": "execute_result"
    }
   ],
   "source": [
    "arr.dtype"
   ]
  },
  {
   "cell_type": "code",
   "execution_count": 38,
   "id": "ee5b5cfe",
   "metadata": {},
   "outputs": [
    {
     "name": "stdout",
     "output_type": "stream",
     "text": [
      "[1.1 2.2 3.3 4.4 5.5 6.6 7.7 8.8]\n",
      "float64\n"
     ]
    }
   ],
   "source": [
    "a1 = np.array([1.1,2.2,3.3,4.4,5.5,6.6,7.7,8.8])\n",
    "print(a1)\n",
    "print(a1.dtype)"
   ]
  },
  {
   "cell_type": "code",
   "execution_count": 43,
   "id": "8457fd1d",
   "metadata": {},
   "outputs": [
    {
     "name": "stdout",
     "output_type": "stream",
     "text": [
      "[[1 1 1 1]\n",
      " [1 1 1 1]\n",
      " [1 1 1 1]\n",
      " [1 1 1 1]]\n",
      "int32\n"
     ]
    }
   ],
   "source": [
    "a1 = np.array([[1,1,1,1],[1,1,1,1],[1,1,1,1],[1,1,1,1]])\n",
    "print(a1)\n",
    "print(a1.dtype)"
   ]
  },
  {
   "cell_type": "code",
   "execution_count": 44,
   "id": "bb7fd64d",
   "metadata": {},
   "outputs": [
    {
     "name": "stdout",
     "output_type": "stream",
     "text": [
      "[[0 0 0]\n",
      " [0 0 0]\n",
      " [0 0 0]]\n",
      "int32\n"
     ]
    }
   ],
   "source": [
    "a2 = np.array([[0,0,0],[0,0,0],[0,0,0]])\n",
    "print(a2)\n",
    "print(a2.dtype)"
   ]
  },
  {
   "cell_type": "markdown",
   "id": "1b9096f0",
   "metadata": {},
   "source": [
    "# ones() and zeros()  with dtype int str"
   ]
  },
  {
   "cell_type": "code",
   "execution_count": 45,
   "id": "69148d9c",
   "metadata": {},
   "outputs": [
    {
     "name": "stdout",
     "output_type": "stream",
     "text": [
      "[[1. 1. 1. 1.]\n",
      " [1. 1. 1. 1.]\n",
      " [1. 1. 1. 1.]\n",
      " [1. 1. 1. 1.]]\n",
      "float64\n"
     ]
    }
   ],
   "source": [
    "b1 = np.ones((4,4))\n",
    "print(b1)\n",
    "print(b1.dtype)"
   ]
  },
  {
   "cell_type": "code",
   "execution_count": 48,
   "id": "db2fa1cb",
   "metadata": {},
   "outputs": [
    {
     "name": "stdout",
     "output_type": "stream",
     "text": [
      "[[0 0 0]\n",
      " [0 0 0]\n",
      " [0 0 0]]\n",
      "int32\n"
     ]
    }
   ],
   "source": [
    "b1 = np.zeros((3,3),dtype=int)\n",
    "print(b1)\n",
    "print(b1.dtype)"
   ]
  },
  {
   "cell_type": "code",
   "execution_count": 51,
   "id": "6035cac8",
   "metadata": {},
   "outputs": [
    {
     "name": "stdout",
     "output_type": "stream",
     "text": [
      "[['1' '1' '1' '1']\n",
      " ['1' '1' '1' '1']\n",
      " ['1' '1' '1' '1']\n",
      " ['1' '1' '1' '1']]\n",
      "<U1\n"
     ]
    }
   ],
   "source": [
    "b1 = np.ones((4,4),dtype=str)\n",
    "print(b1)\n",
    "print(b1.dtype)"
   ]
  },
  {
   "cell_type": "code",
   "execution_count": 49,
   "id": "b262c112",
   "metadata": {},
   "outputs": [
    {
     "name": "stdout",
     "output_type": "stream",
     "text": [
      "[['' '' '']\n",
      " ['' '' '']\n",
      " ['' '' '']]\n",
      "<U1\n"
     ]
    }
   ],
   "source": [
    "b1 = np.zeros((3,3),dtype=str)\n",
    "print(b1)\n",
    "print(b1.dtype)"
   ]
  },
  {
   "cell_type": "code",
   "execution_count": 53,
   "id": "87ab468a",
   "metadata": {},
   "outputs": [
    {
     "name": "stdout",
     "output_type": "stream",
     "text": [
      "[[ True  True  True  True]\n",
      " [ True  True  True  True]\n",
      " [ True  True  True  True]\n",
      " [ True  True  True  True]]\n",
      "bool\n"
     ]
    }
   ],
   "source": [
    "b1 = np.ones((4,4),dtype=bool)\n",
    "print(b1)\n",
    "print(b1.dtype)"
   ]
  },
  {
   "cell_type": "code",
   "execution_count": 52,
   "id": "aca6d39f",
   "metadata": {},
   "outputs": [
    {
     "name": "stdout",
     "output_type": "stream",
     "text": [
      "[[False False False]\n",
      " [False False False]\n",
      " [False False False]]\n",
      "bool\n"
     ]
    }
   ],
   "source": [
    "b1 = np.zeros((3,3),dtype=bool)\n",
    "print(b1)\n",
    "print(b1.dtype)"
   ]
  },
  {
   "cell_type": "markdown",
   "id": "6250a55b",
   "metadata": {},
   "source": [
    "# empty"
   ]
  },
  {
   "cell_type": "code",
   "execution_count": 55,
   "id": "38833be6",
   "metadata": {},
   "outputs": [
    {
     "data": {
      "text/plain": [
       "array([[1., 1., 1., 1.],\n",
       "       [1., 1., 1., 1.],\n",
       "       [1., 1., 1., 1.],\n",
       "       [1., 1., 1., 1.]])"
      ]
     },
     "execution_count": 55,
     "metadata": {},
     "output_type": "execute_result"
    }
   ],
   "source": [
    "em_mx = np.empty((4,4))  # it give garbage value\n",
    "em_mx"
   ]
  },
  {
   "cell_type": "markdown",
   "id": "bd9f3453",
   "metadata": {},
   "source": [
    "# arange()"
   ]
  },
  {
   "cell_type": "code",
   "execution_count": null,
   "id": "a9687d40",
   "metadata": {},
   "outputs": [],
   "source": [
    "# np.arange(start_value,end_value,step)"
   ]
  },
  {
   "cell_type": "code",
   "execution_count": 56,
   "id": "e5533185",
   "metadata": {},
   "outputs": [
    {
     "data": {
      "text/plain": [
       "array([ 0,  1,  2,  3,  4,  5,  6,  7,  8,  9, 10, 11, 12])"
      ]
     },
     "execution_count": 56,
     "metadata": {},
     "output_type": "execute_result"
    }
   ],
   "source": [
    "ar_1d = np.arange(13)\n",
    "ar_1d"
   ]
  },
  {
   "cell_type": "code",
   "execution_count": 57,
   "id": "04784996",
   "metadata": {},
   "outputs": [
    {
     "data": {
      "text/plain": [
       "array([ 2,  3,  4,  5,  6,  7,  8,  9, 10, 11, 12])"
      ]
     },
     "execution_count": 57,
     "metadata": {},
     "output_type": "execute_result"
    }
   ],
   "source": [
    "ar_1d = np.arange(2,13)\n",
    "ar_1d"
   ]
  },
  {
   "cell_type": "markdown",
   "id": "a3bfb0e5",
   "metadata": {},
   "source": [
    "# linespace()"
   ]
  },
  {
   "cell_type": "code",
   "execution_count": 58,
   "id": "25b03443",
   "metadata": {},
   "outputs": [],
   "source": [
    "# np.arange(start_value,end_value,no of value b\\t start to end)"
   ]
  },
  {
   "cell_type": "code",
   "execution_count": 61,
   "id": "9c034b98",
   "metadata": {},
   "outputs": [
    {
     "data": {
      "text/plain": [
       "array([ 1.  ,  3.25,  5.5 ,  7.75, 10.  ])"
      ]
     },
     "execution_count": 61,
     "metadata": {},
     "output_type": "execute_result"
    }
   ],
   "source": [
    "np.linspace(1,10,5)"
   ]
  },
  {
   "cell_type": "code",
   "execution_count": 62,
   "id": "53594e32",
   "metadata": {},
   "outputs": [
    {
     "data": {
      "text/plain": [
       "array([100., 125., 150.])"
      ]
     },
     "execution_count": 62,
     "metadata": {},
     "output_type": "execute_result"
    }
   ],
   "source": [
    "np.linspace(100,150,3)"
   ]
  },
  {
   "cell_type": "markdown",
   "id": "741a7bc9",
   "metadata": {},
   "source": [
    "# reshape()"
   ]
  },
  {
   "cell_type": "code",
   "execution_count": 65,
   "id": "fb65c6d3",
   "metadata": {},
   "outputs": [
    {
     "data": {
      "text/plain": [
       "array([ 1.   ,  1.375,  1.75 ,  2.125,  2.5  ,  2.875,  3.25 ,  3.625,\n",
       "        4.   ,  4.375,  4.75 ,  5.125,  5.5  ,  5.875,  6.25 ,  6.625,\n",
       "        7.   ,  7.375,  7.75 ,  8.125,  8.5  ,  8.875,  9.25 ,  9.625,\n",
       "       10.   ])"
      ]
     },
     "execution_count": 65,
     "metadata": {},
     "output_type": "execute_result"
    }
   ],
   "source": [
    "a = np.linspace(1,10,25)\n",
    "a"
   ]
  },
  {
   "cell_type": "code",
   "execution_count": 67,
   "id": "b2fca923",
   "metadata": {},
   "outputs": [
    {
     "data": {
      "text/plain": [
       "array([[ 1.   ,  1.375,  1.75 ,  2.125,  2.5  ],\n",
       "       [ 2.875,  3.25 ,  3.625,  4.   ,  4.375],\n",
       "       [ 4.75 ,  5.125,  5.5  ,  5.875,  6.25 ],\n",
       "       [ 6.625,  7.   ,  7.375,  7.75 ,  8.125],\n",
       "       [ 8.5  ,  8.875,  9.25 ,  9.625, 10.   ]])"
      ]
     },
     "execution_count": 67,
     "metadata": {},
     "output_type": "execute_result"
    }
   ],
   "source": [
    "arr1 = a.reshape(5,5)\n",
    "arr1"
   ]
  },
  {
   "cell_type": "code",
   "execution_count": 76,
   "id": "51463e49",
   "metadata": {},
   "outputs": [
    {
     "data": {
      "text/plain": [
       "array([[[ 1,  2],\n",
       "        [ 3,  4]],\n",
       "\n",
       "       [[ 5,  6],\n",
       "        [ 7,  8]],\n",
       "\n",
       "       [[ 9, 10],\n",
       "        [11, 12]]])"
      ]
     },
     "execution_count": 76,
     "metadata": {},
     "output_type": "execute_result"
    }
   ],
   "source": [
    "arr2 = np.arange(1,13).reshape(3,2,2)\n",
    "arr2"
   ]
  },
  {
   "cell_type": "markdown",
   "id": "9753b4cc",
   "metadata": {},
   "source": [
    "# ravel()"
   ]
  },
  {
   "cell_type": "code",
   "execution_count": 77,
   "id": "980e4f63",
   "metadata": {},
   "outputs": [
    {
     "data": {
      "text/plain": [
       "array([[[ 1,  2],\n",
       "        [ 3,  4]],\n",
       "\n",
       "       [[ 5,  6],\n",
       "        [ 7,  8]],\n",
       "\n",
       "       [[ 9, 10],\n",
       "        [11, 12]]])"
      ]
     },
     "execution_count": 77,
     "metadata": {},
     "output_type": "execute_result"
    }
   ],
   "source": [
    "arr2 = np.arange(1,13).reshape(3,2,2)\n",
    "arr2"
   ]
  },
  {
   "cell_type": "code",
   "execution_count": 78,
   "id": "14a0bf29",
   "metadata": {},
   "outputs": [
    {
     "data": {
      "text/plain": [
       "array([ 1,  2,  3,  4,  5,  6,  7,  8,  9, 10, 11, 12])"
      ]
     },
     "execution_count": 78,
     "metadata": {},
     "output_type": "execute_result"
    }
   ],
   "source": [
    "arr2.ravel()"
   ]
  },
  {
   "cell_type": "markdown",
   "id": "81af0bb0",
   "metadata": {},
   "source": [
    "# transpose() or T"
   ]
  },
  {
   "cell_type": "code",
   "execution_count": 79,
   "id": "a26b924a",
   "metadata": {},
   "outputs": [
    {
     "data": {
      "text/plain": [
       "array([[ 1.   ,  1.375,  1.75 ,  2.125,  2.5  ],\n",
       "       [ 2.875,  3.25 ,  3.625,  4.   ,  4.375],\n",
       "       [ 4.75 ,  5.125,  5.5  ,  5.875,  6.25 ],\n",
       "       [ 6.625,  7.   ,  7.375,  7.75 ,  8.125],\n",
       "       [ 8.5  ,  8.875,  9.25 ,  9.625, 10.   ]])"
      ]
     },
     "execution_count": 79,
     "metadata": {},
     "output_type": "execute_result"
    }
   ],
   "source": [
    "arr = np.linspace(1,10,25).reshape(5,5)\n",
    "arr"
   ]
  },
  {
   "cell_type": "code",
   "execution_count": 80,
   "id": "243265be",
   "metadata": {},
   "outputs": [
    {
     "data": {
      "text/plain": [
       "array([[ 1.   ,  2.875,  4.75 ,  6.625,  8.5  ],\n",
       "       [ 1.375,  3.25 ,  5.125,  7.   ,  8.875],\n",
       "       [ 1.75 ,  3.625,  5.5  ,  7.375,  9.25 ],\n",
       "       [ 2.125,  4.   ,  5.875,  7.75 ,  9.625],\n",
       "       [ 2.5  ,  4.375,  6.25 ,  8.125, 10.   ]])"
      ]
     },
     "execution_count": 80,
     "metadata": {},
     "output_type": "execute_result"
    }
   ],
   "source": [
    "arr.transpose()  # it convert row to colum"
   ]
  },
  {
   "cell_type": "code",
   "execution_count": 81,
   "id": "277ad8f8",
   "metadata": {},
   "outputs": [
    {
     "data": {
      "text/plain": [
       "array([[ 1.   ,  2.875,  4.75 ,  6.625,  8.5  ],\n",
       "       [ 1.375,  3.25 ,  5.125,  7.   ,  8.875],\n",
       "       [ 1.75 ,  3.625,  5.5  ,  7.375,  9.25 ],\n",
       "       [ 2.125,  4.   ,  5.875,  7.75 ,  9.625],\n",
       "       [ 2.5  ,  4.375,  6.25 ,  8.125, 10.   ]])"
      ]
     },
     "execution_count": 81,
     "metadata": {},
     "output_type": "execute_result"
    }
   ],
   "source": [
    "arr.T   # it convert row to colum"
   ]
  },
  {
   "cell_type": "markdown",
   "id": "f13eb958",
   "metadata": {},
   "source": [
    "# mathematical operation using numpy"
   ]
  },
  {
   "cell_type": "code",
   "execution_count": 82,
   "id": "e511283c",
   "metadata": {},
   "outputs": [
    {
     "name": "stdout",
     "output_type": "stream",
     "text": [
      "[[1 2 3]\n",
      " [4 5 6]\n",
      " [7 8 9]]\n",
      "[[1 2 3]\n",
      " [4 5 6]\n",
      " [7 8 9]]\n"
     ]
    }
   ],
   "source": [
    "arr2 = np.arange(1,10).reshape(3,3)\n",
    "arr3 = np.arange(1,10).reshape(3,3)\n",
    "print(arr2)\n",
    "print(arr3)"
   ]
  },
  {
   "cell_type": "code",
   "execution_count": 83,
   "id": "12b89c6a",
   "metadata": {},
   "outputs": [
    {
     "name": "stdout",
     "output_type": "stream",
     "text": [
      "[[ 2  4  6]\n",
      " [ 8 10 12]\n",
      " [14 16 18]]\n"
     ]
    }
   ],
   "source": [
    "print(arr2 + arr3)"
   ]
  },
  {
   "cell_type": "code",
   "execution_count": 86,
   "id": "c0584f3c",
   "metadata": {},
   "outputs": [
    {
     "name": "stdout",
     "output_type": "stream",
     "text": [
      "[[0 0 0]\n",
      " [0 0 0]\n",
      " [0 0 0]]\n"
     ]
    }
   ],
   "source": [
    "print(arr2 - arr3)"
   ]
  },
  {
   "cell_type": "code",
   "execution_count": 84,
   "id": "7f75632b",
   "metadata": {},
   "outputs": [
    {
     "name": "stdout",
     "output_type": "stream",
     "text": [
      "[[ 1  4  9]\n",
      " [16 25 36]\n",
      " [49 64 81]]\n"
     ]
    }
   ],
   "source": [
    "print(arr2 * arr3)"
   ]
  },
  {
   "cell_type": "code",
   "execution_count": 85,
   "id": "fa2116f1",
   "metadata": {},
   "outputs": [
    {
     "name": "stdout",
     "output_type": "stream",
     "text": [
      "[[        1         4        27]\n",
      " [      256      3125     46656]\n",
      " [   823543  16777216 387420489]]\n"
     ]
    }
   ],
   "source": [
    "print(arr2 ** arr3)"
   ]
  },
  {
   "cell_type": "code",
   "execution_count": 87,
   "id": "cc7557fd",
   "metadata": {},
   "outputs": [
    {
     "name": "stdout",
     "output_type": "stream",
     "text": [
      "[[1. 1. 1.]\n",
      " [1. 1. 1.]\n",
      " [1. 1. 1.]]\n"
     ]
    }
   ],
   "source": [
    "print(arr2 / arr3)"
   ]
  },
  {
   "cell_type": "code",
   "execution_count": 88,
   "id": "795a6365",
   "metadata": {},
   "outputs": [
    {
     "name": "stdout",
     "output_type": "stream",
     "text": [
      "[[ 30  36  42]\n",
      " [ 66  81  96]\n",
      " [102 126 150]]\n"
     ]
    }
   ],
   "source": [
    "print(arr2 @ arr3) # matrix multification"
   ]
  },
  {
   "cell_type": "code",
   "execution_count": 90,
   "id": "971943b2",
   "metadata": {},
   "outputs": [
    {
     "data": {
      "text/plain": [
       "array([[ 30,  36,  42],\n",
       "       [ 66,  81,  96],\n",
       "       [102, 126, 150]])"
      ]
     },
     "execution_count": 90,
     "metadata": {},
     "output_type": "execute_result"
    }
   ],
   "source": [
    "arr2.dot(arr3)"
   ]
  },
  {
   "cell_type": "code",
   "execution_count": 92,
   "id": "6ac5b2d4",
   "metadata": {},
   "outputs": [
    {
     "data": {
      "text/plain": [
       "array([[ 2,  4,  6],\n",
       "       [ 8, 10, 12],\n",
       "       [14, 16, 18]])"
      ]
     },
     "execution_count": 92,
     "metadata": {},
     "output_type": "execute_result"
    }
   ],
   "source": [
    "np.add(arr2,arr3)"
   ]
  },
  {
   "cell_type": "code",
   "execution_count": 94,
   "id": "8a20befa",
   "metadata": {},
   "outputs": [
    {
     "data": {
      "text/plain": [
       "array([[0, 0, 0],\n",
       "       [0, 0, 0],\n",
       "       [0, 0, 0]])"
      ]
     },
     "execution_count": 94,
     "metadata": {},
     "output_type": "execute_result"
    }
   ],
   "source": [
    "np.subtract(arr2,arr3)"
   ]
  },
  {
   "cell_type": "code",
   "execution_count": 96,
   "id": "8808acb5",
   "metadata": {},
   "outputs": [
    {
     "data": {
      "text/plain": [
       "array([[ 1,  4,  9],\n",
       "       [16, 25, 36],\n",
       "       [49, 64, 81]])"
      ]
     },
     "execution_count": 96,
     "metadata": {},
     "output_type": "execute_result"
    }
   ],
   "source": [
    "np.multiply(arr2,arr3)"
   ]
  },
  {
   "cell_type": "code",
   "execution_count": 97,
   "id": "3e29332e",
   "metadata": {},
   "outputs": [
    {
     "data": {
      "text/plain": [
       "array([[1., 1., 1.],\n",
       "       [1., 1., 1.],\n",
       "       [1., 1., 1.]])"
      ]
     },
     "execution_count": 97,
     "metadata": {},
     "output_type": "execute_result"
    }
   ],
   "source": [
    "np.divide(arr2,arr3)"
   ]
  },
  {
   "cell_type": "markdown",
   "id": "11d53b20",
   "metadata": {},
   "source": [
    "# Maximum and Minimum"
   ]
  },
  {
   "cell_type": "code",
   "execution_count": 1,
   "id": "5af17420",
   "metadata": {},
   "outputs": [],
   "source": [
    "import numpy as np"
   ]
  },
  {
   "cell_type": "code",
   "execution_count": 2,
   "id": "cd140a41",
   "metadata": {},
   "outputs": [
    {
     "data": {
      "text/plain": [
       "array([[1, 2, 3],\n",
       "       [4, 5, 6],\n",
       "       [7, 8, 9]])"
      ]
     },
     "execution_count": 2,
     "metadata": {},
     "output_type": "execute_result"
    }
   ],
   "source": [
    "arr1 = np.arange(1,10).reshape(3,3)\n",
    "arr1"
   ]
  },
  {
   "cell_type": "code",
   "execution_count": 3,
   "id": "221bebd5",
   "metadata": {},
   "outputs": [
    {
     "data": {
      "text/plain": [
       "9"
      ]
     },
     "execution_count": 3,
     "metadata": {},
     "output_type": "execute_result"
    }
   ],
   "source": [
    "arr1.max()  # it return maximum value "
   ]
  },
  {
   "cell_type": "code",
   "execution_count": 4,
   "id": "41cf6497",
   "metadata": {},
   "outputs": [
    {
     "data": {
      "text/plain": [
       "8"
      ]
     },
     "execution_count": 4,
     "metadata": {},
     "output_type": "execute_result"
    }
   ],
   "source": [
    "arr1.argmax()  # it return maximum value index "
   ]
  },
  {
   "cell_type": "code",
   "execution_count": 5,
   "id": "89351581",
   "metadata": {},
   "outputs": [
    {
     "data": {
      "text/plain": [
       "array([7, 8, 9])"
      ]
     },
     "execution_count": 5,
     "metadata": {},
     "output_type": "execute_result"
    }
   ],
   "source": [
    "arr1.max(axis=0)  # it return maximum row \n",
    "\n",
    "# NOTE :- row denote as a 1 and col denote as 0"
   ]
  },
  {
   "cell_type": "code",
   "execution_count": 6,
   "id": "939d0305",
   "metadata": {},
   "outputs": [
    {
     "data": {
      "text/plain": [
       "array([3, 6, 9])"
      ]
     },
     "execution_count": 6,
     "metadata": {},
     "output_type": "execute_result"
    }
   ],
   "source": [
    "arr1.max(axis=1)  # it return maximum col \n",
    "\n",
    "# NOTE :- row denote as a 1 and col denote as 0"
   ]
  },
  {
   "cell_type": "code",
   "execution_count": 7,
   "id": "9e96e452",
   "metadata": {},
   "outputs": [
    {
     "data": {
      "text/plain": [
       "array([2, 2, 2], dtype=int64)"
      ]
     },
     "execution_count": 7,
     "metadata": {},
     "output_type": "execute_result"
    }
   ],
   "source": [
    "arr1.argmax(axis=0) "
   ]
  },
  {
   "cell_type": "code",
   "execution_count": 9,
   "id": "bc751fa4",
   "metadata": {},
   "outputs": [
    {
     "data": {
      "text/plain": [
       "array([2, 2, 2], dtype=int64)"
      ]
     },
     "execution_count": 9,
     "metadata": {},
     "output_type": "execute_result"
    }
   ],
   "source": [
    "arr1.argmax(axis=1) "
   ]
  },
  {
   "cell_type": "code",
   "execution_count": 10,
   "id": "9f63296c",
   "metadata": {},
   "outputs": [
    {
     "data": {
      "text/plain": [
       "45"
      ]
     },
     "execution_count": 10,
     "metadata": {},
     "output_type": "execute_result"
    }
   ],
   "source": [
    "np.sum(arr1)"
   ]
  },
  {
   "cell_type": "code",
   "execution_count": 12,
   "id": "ce7dc571",
   "metadata": {},
   "outputs": [
    {
     "data": {
      "text/plain": [
       "array([12, 15, 18])"
      ]
     },
     "execution_count": 12,
     "metadata": {},
     "output_type": "execute_result"
    }
   ],
   "source": [
    "np.sum(arr1, axis=0)"
   ]
  },
  {
   "cell_type": "code",
   "execution_count": 13,
   "id": "b6a56092",
   "metadata": {},
   "outputs": [
    {
     "data": {
      "text/plain": [
       "array([ 6, 15, 24])"
      ]
     },
     "execution_count": 13,
     "metadata": {},
     "output_type": "execute_result"
    }
   ],
   "source": [
    "np.sum(arr1, axis=1)"
   ]
  },
  {
   "cell_type": "markdown",
   "id": "eda11fd3",
   "metadata": {},
   "source": [
    "# mean median std"
   ]
  },
  {
   "cell_type": "code",
   "execution_count": 14,
   "id": "ab49fe71",
   "metadata": {},
   "outputs": [
    {
     "data": {
      "text/plain": [
       "5.0"
      ]
     },
     "execution_count": 14,
     "metadata": {},
     "output_type": "execute_result"
    }
   ],
   "source": [
    "np.mean(arr1)"
   ]
  },
  {
   "cell_type": "code",
   "execution_count": 17,
   "id": "cc4bed34",
   "metadata": {},
   "outputs": [
    {
     "data": {
      "text/plain": [
       "5.0"
      ]
     },
     "execution_count": 17,
     "metadata": {},
     "output_type": "execute_result"
    }
   ],
   "source": [
    "np.median(arr1)"
   ]
  },
  {
   "cell_type": "code",
   "execution_count": 18,
   "id": "aedb93c7",
   "metadata": {},
   "outputs": [
    {
     "data": {
      "text/plain": [
       "array([[1.        , 1.41421356, 1.73205081],\n",
       "       [2.        , 2.23606798, 2.44948974],\n",
       "       [2.64575131, 2.82842712, 3.        ]])"
      ]
     },
     "execution_count": 18,
     "metadata": {},
     "output_type": "execute_result"
    }
   ],
   "source": [
    "np.sqrt(arr1)"
   ]
  },
  {
   "cell_type": "code",
   "execution_count": 19,
   "id": "fba6ebb1",
   "metadata": {},
   "outputs": [
    {
     "data": {
      "text/plain": [
       "2.581988897471611"
      ]
     },
     "execution_count": 19,
     "metadata": {},
     "output_type": "execute_result"
    }
   ],
   "source": [
    "np.std(arr1)"
   ]
  },
  {
   "cell_type": "code",
   "execution_count": 20,
   "id": "f9aed8d2",
   "metadata": {},
   "outputs": [
    {
     "data": {
      "text/plain": [
       "array([[2.71828183e+00, 7.38905610e+00, 2.00855369e+01],\n",
       "       [5.45981500e+01, 1.48413159e+02, 4.03428793e+02],\n",
       "       [1.09663316e+03, 2.98095799e+03, 8.10308393e+03]])"
      ]
     },
     "execution_count": 20,
     "metadata": {},
     "output_type": "execute_result"
    }
   ],
   "source": [
    "np.exp(arr1)"
   ]
  },
  {
   "cell_type": "code",
   "execution_count": 21,
   "id": "16163833",
   "metadata": {},
   "outputs": [
    {
     "data": {
      "text/plain": [
       "array([[0.        , 0.69314718, 1.09861229],\n",
       "       [1.38629436, 1.60943791, 1.79175947],\n",
       "       [1.94591015, 2.07944154, 2.19722458]])"
      ]
     },
     "execution_count": 21,
     "metadata": {},
     "output_type": "execute_result"
    }
   ],
   "source": [
    "np.log(arr1)"
   ]
  },
  {
   "cell_type": "code",
   "execution_count": 22,
   "id": "c40c5f56",
   "metadata": {},
   "outputs": [
    {
     "data": {
      "text/plain": [
       "array([[0.        , 0.69314718, 1.09861229],\n",
       "       [1.38629436, 1.60943791, 1.79175947],\n",
       "       [1.94591015, 2.07944154, 2.19722458]])"
      ]
     },
     "execution_count": 22,
     "metadata": {},
     "output_type": "execute_result"
    }
   ],
   "source": [
    "np.log(arr1)"
   ]
  },
  {
   "cell_type": "code",
   "execution_count": 23,
   "id": "65823968",
   "metadata": {},
   "outputs": [
    {
     "data": {
      "text/plain": [
       "array([[0.        , 0.30103   , 0.47712125],\n",
       "       [0.60205999, 0.69897   , 0.77815125],\n",
       "       [0.84509804, 0.90308999, 0.95424251]])"
      ]
     },
     "execution_count": 23,
     "metadata": {},
     "output_type": "execute_result"
    }
   ],
   "source": [
    "np.log10(arr1)"
   ]
  },
  {
   "cell_type": "code",
   "execution_count": null,
   "id": "0de7048d",
   "metadata": {},
   "outputs": [],
   "source": [
    "np.max()\n",
    "\n",
    "# NOTE :- shift + tap press button to show suggestion"
   ]
  },
  {
   "cell_type": "markdown",
   "id": "b60f45d6",
   "metadata": {},
   "source": [
    "# numpyarray slicing(:)"
   ]
  },
  {
   "cell_type": "code",
   "execution_count": 27,
   "id": "4002c17d",
   "metadata": {},
   "outputs": [
    {
     "data": {
      "text/plain": [
       "array([[  1,   2,   3,   4,   5,   6,   7,   8,   9,  10],\n",
       "       [ 11,  12,  13,  14,  15,  16,  17,  18,  19,  20],\n",
       "       [ 21,  22,  23,  24,  25,  26,  27,  28,  29,  30],\n",
       "       [ 31,  32,  33,  34,  35,  36,  37,  38,  39,  40],\n",
       "       [ 41,  42,  43,  44,  45,  46,  47,  48,  49,  50],\n",
       "       [ 51,  52,  53,  54,  55,  56,  57,  58,  59,  60],\n",
       "       [ 61,  62,  63,  64,  65,  66,  67,  68,  69,  70],\n",
       "       [ 71,  72,  73,  74,  75,  76,  77,  78,  79,  80],\n",
       "       [ 81,  82,  83,  84,  85,  86,  87,  88,  89,  90],\n",
       "       [ 91,  92,  93,  94,  95,  96,  97,  98,  99, 100]])"
      ]
     },
     "execution_count": 27,
     "metadata": {},
     "output_type": "execute_result"
    }
   ],
   "source": [
    "mx = np.arange(1,101).reshape(10,10)\n",
    "mx"
   ]
  },
  {
   "cell_type": "code",
   "execution_count": 28,
   "id": "df4aa6bd",
   "metadata": {},
   "outputs": [
    {
     "data": {
      "text/plain": [
       "1"
      ]
     },
     "execution_count": 28,
     "metadata": {},
     "output_type": "execute_result"
    }
   ],
   "source": [
    "mx[0,0]"
   ]
  },
  {
   "cell_type": "code",
   "execution_count": 29,
   "id": "a10b8afd",
   "metadata": {},
   "outputs": [
    {
     "data": {
      "text/plain": [
       "46"
      ]
     },
     "execution_count": 29,
     "metadata": {},
     "output_type": "execute_result"
    }
   ],
   "source": [
    "mx[4,5]"
   ]
  },
  {
   "cell_type": "code",
   "execution_count": 32,
   "id": "aeee0c35",
   "metadata": {},
   "outputs": [
    {
     "data": {
      "text/plain": [
       "array([[ 3,  4,  5],\n",
       "       [13, 14, 15],\n",
       "       [23, 24, 25],\n",
       "       [33, 34, 35],\n",
       "       [43, 44, 45],\n",
       "       [53, 54, 55],\n",
       "       [63, 64, 65],\n",
       "       [73, 74, 75],\n",
       "       [83, 84, 85],\n",
       "       [93, 94, 95]])"
      ]
     },
     "execution_count": 32,
     "metadata": {},
     "output_type": "execute_result"
    }
   ],
   "source": [
    "mx[:,2:5]"
   ]
  },
  {
   "cell_type": "code",
   "execution_count": 34,
   "id": "b7431544",
   "metadata": {},
   "outputs": [
    {
     "data": {
      "text/plain": [
       "array([[ 7,  8],\n",
       "       [17, 18],\n",
       "       [27, 28],\n",
       "       [37, 38],\n",
       "       [47, 48],\n",
       "       [57, 58],\n",
       "       [67, 68],\n",
       "       [77, 78],\n",
       "       [87, 88],\n",
       "       [97, 98]])"
      ]
     },
     "execution_count": 34,
     "metadata": {},
     "output_type": "execute_result"
    }
   ],
   "source": [
    "mx[:,6:8]"
   ]
  },
  {
   "cell_type": "code",
   "execution_count": 35,
   "id": "dabdc41c",
   "metadata": {},
   "outputs": [
    {
     "data": {
      "text/plain": [
       "array([[11, 12, 13, 14, 15, 16, 17, 18, 19, 20],\n",
       "       [21, 22, 23, 24, 25, 26, 27, 28, 29, 30]])"
      ]
     },
     "execution_count": 35,
     "metadata": {},
     "output_type": "execute_result"
    }
   ],
   "source": [
    "mx[1:3,:]"
   ]
  },
  {
   "cell_type": "code",
   "execution_count": 36,
   "id": "1513fbe8",
   "metadata": {},
   "outputs": [
    {
     "data": {
      "text/plain": [
       "array([[71, 72, 73, 74, 75, 76, 77, 78, 79, 80],\n",
       "       [81, 82, 83, 84, 85, 86, 87, 88, 89, 90]])"
      ]
     },
     "execution_count": 36,
     "metadata": {},
     "output_type": "execute_result"
    }
   ],
   "source": [
    "mx[7:9,:]"
   ]
  },
  {
   "cell_type": "code",
   "execution_count": 37,
   "id": "aa2430b8",
   "metadata": {},
   "outputs": [
    {
     "data": {
      "text/plain": [
       "array([[23, 24],\n",
       "       [33, 34]])"
      ]
     },
     "execution_count": 37,
     "metadata": {},
     "output_type": "execute_result"
    }
   ],
   "source": [
    "mx[2:4,2:4]"
   ]
  },
  {
   "cell_type": "code",
   "execution_count": 43,
   "id": "3b5d8640",
   "metadata": {},
   "outputs": [
    {
     "data": {
      "text/plain": [
       "array([[56, 57, 58],\n",
       "       [66, 67, 68],\n",
       "       [76, 77, 78]])"
      ]
     },
     "execution_count": 43,
     "metadata": {},
     "output_type": "execute_result"
    }
   ],
   "source": [
    "mx[5:8,5:8]"
   ]
  },
  {
   "cell_type": "code",
   "execution_count": 56,
   "id": "74b983ae",
   "metadata": {},
   "outputs": [
    {
     "data": {
      "text/plain": [
       "array([[ 1,  2,  3,  4,  5,  6,  7,  8],\n",
       "       [ 9, 10, 11, 12, 13, 14, 15, 16],\n",
       "       [17, 18, 19, 20, 21, 22, 23, 24],\n",
       "       [25, 26, 27, 28, 29, 30, 31, 32],\n",
       "       [33, 34, 35, 36, 37, 38, 39, 40]])"
      ]
     },
     "execution_count": 56,
     "metadata": {},
     "output_type": "execute_result"
    }
   ],
   "source": [
    "mat = np.arange(1,41).reshape(5,8)\n",
    "mat"
   ]
  },
  {
   "cell_type": "code",
   "execution_count": 58,
   "id": "11a8b340",
   "metadata": {},
   "outputs": [
    {
     "data": {
      "text/plain": [
       "array([[ 6,  8, 10, 12],\n",
       "       [22, 24, 26, 28],\n",
       "       [38, 40, 42, 44],\n",
       "       [54, 56, 58, 60],\n",
       "       [70, 72, 74, 76]])"
      ]
     },
     "execution_count": 58,
     "metadata": {},
     "output_type": "execute_result"
    }
   ],
   "source": [
    "add = mat[:,0:4] + mat[:,4:]\n",
    "add"
   ]
  },
  {
   "cell_type": "markdown",
   "id": "5ae56194",
   "metadata": {},
   "source": [
    "# random"
   ]
  },
  {
   "cell_type": "code",
   "execution_count": 64,
   "id": "534b25f0",
   "metadata": {},
   "outputs": [],
   "source": [
    "import random "
   ]
  },
  {
   "cell_type": "code",
   "execution_count": 66,
   "id": "b6b9724a",
   "metadata": {},
   "outputs": [
    {
     "data": {
      "text/plain": [
       "0.3666755530593553"
      ]
     },
     "execution_count": 66,
     "metadata": {},
     "output_type": "execute_result"
    }
   ],
   "source": [
    "np.random.random()  # by default genrate float value"
   ]
  },
  {
   "cell_type": "code",
   "execution_count": 67,
   "id": "a1415e63",
   "metadata": {},
   "outputs": [
    {
     "data": {
      "text/plain": [
       "array([0.54956409, 0.78147967, 0.76356517, 0.70406575, 0.58331084])"
      ]
     },
     "execution_count": 67,
     "metadata": {},
     "output_type": "execute_result"
    }
   ],
   "source": [
    "np.random.random(5)  # by default genrate float value"
   ]
  },
  {
   "cell_type": "code",
   "execution_count": 69,
   "id": "66289a10",
   "metadata": {},
   "outputs": [
    {
     "data": {
      "text/plain": [
       "array([0.63157526, 0.20080261, 0.15914704, 0.75795035, 0.99109785])"
      ]
     },
     "execution_count": 69,
     "metadata": {},
     "output_type": "execute_result"
    }
   ],
   "source": [
    "np.random.random(5)  # by default genrate float value"
   ]
  },
  {
   "cell_type": "code",
   "execution_count": 70,
   "id": "e5241c9e",
   "metadata": {},
   "outputs": [
    {
     "data": {
      "text/plain": [
       "array([[0.06832737, 0.8216853 , 0.77001425],\n",
       "       [0.47662683, 0.34516421, 0.12139191],\n",
       "       [0.51613595, 0.7938053 , 0.07044807]])"
      ]
     },
     "execution_count": 70,
     "metadata": {},
     "output_type": "execute_result"
    }
   ],
   "source": [
    "np.random.random((3,3))  "
   ]
  },
  {
   "cell_type": "markdown",
   "id": "13716191",
   "metadata": {},
   "source": [
    "# randint"
   ]
  },
  {
   "cell_type": "code",
   "execution_count": 73,
   "id": "336d0966",
   "metadata": {},
   "outputs": [
    {
     "data": {
      "text/plain": [
       "4"
      ]
     },
     "execution_count": 73,
     "metadata": {},
     "output_type": "execute_result"
    }
   ],
   "source": [
    "np.random.randint(5)   # it genrate only one value and value comes b/t 0 to 5"
   ]
  },
  {
   "cell_type": "code",
   "execution_count": 75,
   "id": "499ee1dd",
   "metadata": {},
   "outputs": [
    {
     "data": {
      "text/plain": [
       "23"
      ]
     },
     "execution_count": 75,
     "metadata": {},
     "output_type": "execute_result"
    }
   ],
   "source": [
    "np.random.randint(20,25)   # it genrate only one value and value comes b/t 20 to 25"
   ]
  },
  {
   "cell_type": "code",
   "execution_count": 77,
   "id": "fd8587dd",
   "metadata": {},
   "outputs": [
    {
     "data": {
      "text/plain": [
       "array([21, 24, 20])"
      ]
     },
     "execution_count": 77,
     "metadata": {},
     "output_type": "execute_result"
    }
   ],
   "source": [
    "np.random.randint(20,25, 3)   # 3rd argument denotes that how many value need b/t 20 to 25"
   ]
  },
  {
   "cell_type": "code",
   "execution_count": 78,
   "id": "c96e1fbe",
   "metadata": {},
   "outputs": [
    {
     "data": {
      "text/plain": [
       "array([[22, 23, 20, 21],\n",
       "       [22, 22, 23, 22],\n",
       "       [22, 20, 21, 21],\n",
       "       [21, 20, 24, 23]])"
      ]
     },
     "execution_count": 78,
     "metadata": {},
     "output_type": "execute_result"
    }
   ],
   "source": [
    "np.random.randint(20,25, (4,4))  # it create matix"
   ]
  },
  {
   "cell_type": "code",
   "execution_count": 79,
   "id": "4bfce527",
   "metadata": {},
   "outputs": [
    {
     "data": {
      "text/plain": [
       "array([[[23, 22, 24, 22],\n",
       "        [23, 23, 21, 23],\n",
       "        [22, 24, 24, 21],\n",
       "        [22, 20, 24, 24]],\n",
       "\n",
       "       [[22, 21, 22, 23],\n",
       "        [21, 21, 21, 22],\n",
       "        [21, 22, 24, 23],\n",
       "        [23, 22, 21, 23]]])"
      ]
     },
     "execution_count": 79,
     "metadata": {},
     "output_type": "execute_result"
    }
   ],
   "source": [
    "np.random.randint(20,25, (2,4,4))  # it create matix and 2 denote as how many matrix you need or create"
   ]
  },
  {
   "cell_type": "markdown",
   "id": "d1f709e0",
   "metadata": {},
   "source": [
    "# choice"
   ]
  },
  {
   "cell_type": "code",
   "execution_count": 82,
   "id": "a5442129",
   "metadata": {},
   "outputs": [
    {
     "data": {
      "text/plain": [
       "[1, 2, 3, 4, 5, 6, 7, 8, 9]"
      ]
     },
     "execution_count": 82,
     "metadata": {},
     "output_type": "execute_result"
    }
   ],
   "source": [
    "p = [1,2,3,4,5,6,7,8,9]\n",
    "p"
   ]
  },
  {
   "cell_type": "code",
   "execution_count": 86,
   "id": "e67996cc",
   "metadata": {},
   "outputs": [
    {
     "data": {
      "text/plain": [
       "3"
      ]
     },
     "execution_count": 86,
     "metadata": {},
     "output_type": "execute_result"
    }
   ],
   "source": [
    "np.random.choice(p)  # it genrate one value from list p "
   ]
  },
  {
   "cell_type": "code",
   "execution_count": 87,
   "id": "37d6ae6b",
   "metadata": {},
   "outputs": [
    {
     "data": {
      "text/plain": [
       "4"
      ]
     },
     "execution_count": 87,
     "metadata": {},
     "output_type": "execute_result"
    }
   ],
   "source": [
    "np.random.choice(p)  # it genrate one value from list p "
   ]
  },
  {
   "cell_type": "code",
   "execution_count": 89,
   "id": "e4dbfcd9",
   "metadata": {},
   "outputs": [
    {
     "data": {
      "text/plain": [
       "array([5, 9, 8, 6])"
      ]
     },
     "execution_count": 89,
     "metadata": {},
     "output_type": "execute_result"
    }
   ],
   "source": [
    "np.random.choice(p,4)  # it genrate 4 value from list p"
   ]
  },
  {
   "cell_type": "markdown",
   "id": "ed3fc06d",
   "metadata": {},
   "source": [
    "# permutation"
   ]
  },
  {
   "cell_type": "code",
   "execution_count": 90,
   "id": "7421d2b8",
   "metadata": {},
   "outputs": [
    {
     "data": {
      "text/plain": [
       "[1, 2, 3]"
      ]
     },
     "execution_count": 90,
     "metadata": {},
     "output_type": "execute_result"
    }
   ],
   "source": [
    "k = [1,2,3]\n",
    "k"
   ]
  },
  {
   "cell_type": "code",
   "execution_count": 91,
   "id": "4a77b9e5",
   "metadata": {},
   "outputs": [
    {
     "data": {
      "text/plain": [
       "array([2, 3, 1])"
      ]
     },
     "execution_count": 91,
     "metadata": {},
     "output_type": "execute_result"
    }
   ],
   "source": [
    "np.random.permutation(k)"
   ]
  },
  {
   "cell_type": "markdown",
   "id": "9312b406",
   "metadata": {},
   "source": [
    "# concatenate"
   ]
  },
  {
   "cell_type": "code",
   "execution_count": 99,
   "id": "1e71018d",
   "metadata": {},
   "outputs": [
    {
     "name": "stdout",
     "output_type": "stream",
     "text": [
      "[[ 1  2  3  4]\n",
      " [ 5  6  7  8]\n",
      " [ 9 10 11 12]\n",
      " [13 14 15 16]]\n",
      "\n",
      "[[16 17 18 19]\n",
      " [20 21 22 23]\n",
      " [24 25 26 27]\n",
      " [28 29 30 31]]\n"
     ]
    }
   ],
   "source": [
    "mat1 = np.arange(1,17).reshape(4,4)\n",
    "print(mat1)\n",
    "\n",
    "print()\n",
    "\n",
    "mat2 = np.arange(16,32).reshape(4,4)\n",
    "print(mat2)"
   ]
  },
  {
   "cell_type": "code",
   "execution_count": 100,
   "id": "b4afaa4a",
   "metadata": {},
   "outputs": [
    {
     "data": {
      "text/plain": [
       "array([[ 1,  2,  3,  4],\n",
       "       [ 5,  6,  7,  8],\n",
       "       [ 9, 10, 11, 12],\n",
       "       [13, 14, 15, 16],\n",
       "       [16, 17, 18, 19],\n",
       "       [20, 21, 22, 23],\n",
       "       [24, 25, 26, 27],\n",
       "       [28, 29, 30, 31]])"
      ]
     },
     "execution_count": 100,
     "metadata": {},
     "output_type": "execute_result"
    }
   ],
   "source": [
    "np.concatenate((mat1,mat2)) "
   ]
  },
  {
   "cell_type": "code",
   "execution_count": 101,
   "id": "b21dcd02",
   "metadata": {},
   "outputs": [
    {
     "data": {
      "text/plain": [
       "array([[ 1,  2,  3,  4, 16, 17, 18, 19],\n",
       "       [ 5,  6,  7,  8, 20, 21, 22, 23],\n",
       "       [ 9, 10, 11, 12, 24, 25, 26, 27],\n",
       "       [13, 14, 15, 16, 28, 29, 30, 31]])"
      ]
     },
     "execution_count": 101,
     "metadata": {},
     "output_type": "execute_result"
    }
   ],
   "source": [
    "np.concatenate((mat1,mat2), axis=1) "
   ]
  },
  {
   "cell_type": "markdown",
   "id": "14d34b69",
   "metadata": {},
   "source": [
    "# split"
   ]
  },
  {
   "cell_type": "code",
   "execution_count": 102,
   "id": "e1f3a6e1",
   "metadata": {},
   "outputs": [
    {
     "data": {
      "text/plain": [
       "array([[ 1,  2,  3,  4],\n",
       "       [ 5,  6,  7,  8],\n",
       "       [ 9, 10, 11, 12],\n",
       "       [13, 14, 15, 16]])"
      ]
     },
     "execution_count": 102,
     "metadata": {},
     "output_type": "execute_result"
    }
   ],
   "source": [
    "mat1"
   ]
  },
  {
   "cell_type": "code",
   "execution_count": 106,
   "id": "c6749490",
   "metadata": {},
   "outputs": [
    {
     "data": {
      "text/plain": [
       "[array([[1, 2, 3, 4],\n",
       "        [5, 6, 7, 8]]),\n",
       " array([[ 9, 10, 11, 12],\n",
       "        [13, 14, 15, 16]])]"
      ]
     },
     "execution_count": 106,
     "metadata": {},
     "output_type": "execute_result"
    }
   ],
   "source": [
    "np.split(mat1,2)"
   ]
  },
  {
   "cell_type": "code",
   "execution_count": 107,
   "id": "509b3b11",
   "metadata": {},
   "outputs": [],
   "source": [
    "x,y = np.split(mat1,2)"
   ]
  },
  {
   "cell_type": "code",
   "execution_count": 108,
   "id": "ecffecf1",
   "metadata": {},
   "outputs": [
    {
     "name": "stdout",
     "output_type": "stream",
     "text": [
      "[[1 2 3 4]\n",
      " [5 6 7 8]]\n",
      "\n",
      "[[ 9 10 11 12]\n",
      " [13 14 15 16]]\n"
     ]
    }
   ],
   "source": [
    "print(x)\n",
    "print()\n",
    "print(y)"
   ]
  },
  {
   "cell_type": "markdown",
   "id": "b6b33a3d",
   "metadata": {},
   "source": [
    "# Genrate Data for house price using numpy"
   ]
  },
  {
   "cell_type": "code",
   "execution_count": 111,
   "id": "6b90a21f",
   "metadata": {},
   "outputs": [],
   "source": [
    "# area , valkini, bhk, houseprice\n",
    "\n",
    "area = np.random.randint(700,22000,100)\n",
    "valkini = np.random.randint(1,6,100)\n",
    "bhk = np.random.randint(1,6,100)\n",
    "houseprice = np.random.randint(450000,1500000,100)"
   ]
  },
  {
   "cell_type": "code",
   "execution_count": 120,
   "id": "441c4c36",
   "metadata": {},
   "outputs": [],
   "source": [
    "housedata = np.concatenate((area,valkini,bhk,houseprice))"
   ]
  },
  {
   "cell_type": "code",
   "execution_count": 122,
   "id": "43839c97",
   "metadata": {},
   "outputs": [
    {
     "data": {
      "text/plain": [
       "array([  16144,   20123,    9923,    2128,    7061,   13603,   12575,\n",
       "         15325,    3432,   15080,   13614,   21965,    1061,   11897,\n",
       "         14683,    5666,     956,    9305,   20490,    2758,   19849,\n",
       "          1267,   10234,    7536,    8305,   20927,   13450,   10314,\n",
       "          7080,    3524,    3077,   11226,   20783,   18336,   12091,\n",
       "         20621,   16511,    3185,   11335,    3999,   21436,   17228,\n",
       "         18768,    7646,    1848,     952,   18564,    5531,   10655,\n",
       "          5503,    6009,    8692,    5415,    9192,   12156,   19729,\n",
       "          7768,   13066,    3704,    9781,   11417,   11494,   21179,\n",
       "         11726,   11194,    3796,   15104,    3026,    2424,    5819,\n",
       "         19601,    7315,    4570,   18535,   21744,     758,    1002,\n",
       "         20029,    8951,   12558,   11741,   19433,    3368,   21567,\n",
       "         18705,   13902,    1555,    5077,   12294,    6556,   20717,\n",
       "         16803,   15162,    4779,   18488,    2163,   21017,    4110,\n",
       "         15409,   13293,       5,       4,       2,       2,       2,\n",
       "             1,       1,       1,       1,       5,       1,       2,\n",
       "             4,       1,       2,       5,       1,       5,       1,\n",
       "             2,       4,       1,       3,       4,       3,       2,\n",
       "             1,       5,       5,       4,       3,       4,       4,\n",
       "             1,       3,       2,       2,       1,       1,       3,\n",
       "             3,       3,       2,       4,       4,       5,       4,\n",
       "             3,       3,       3,       1,       2,       5,       5,\n",
       "             1,       2,       5,       5,       5,       1,       1,\n",
       "             1,       3,       1,       1,       3,       2,       4,\n",
       "             2,       4,       2,       5,       3,       5,       1,\n",
       "             5,       1,       2,       2,       3,       3,       4,\n",
       "             1,       3,       3,       2,       1,       1,       4,\n",
       "             5,       3,       1,       4,       2,       3,       5,\n",
       "             1,       4,       1,       2,       4,       4,       1,\n",
       "             5,       3,       2,       4,       1,       2,       3,\n",
       "             3,       2,       5,       2,       5,       2,       2,\n",
       "             4,       2,       3,       1,       5,       3,       2,\n",
       "             5,       2,       3,       5,       2,       3,       5,\n",
       "             5,       5,       4,       3,       3,       4,       5,\n",
       "             1,       5,       3,       5,       4,       2,       1,\n",
       "             4,       5,       3,       4,       1,       5,       2,\n",
       "             1,       4,       2,       2,       3,       1,       4,\n",
       "             1,       3,       3,       2,       5,       4,       4,\n",
       "             3,       5,       3,       2,       5,       1,       1,\n",
       "             5,       2,       5,       1,       2,       4,       2,\n",
       "             3,       2,       2,       2,       3,       3,       2,\n",
       "             1,       5,       3,       5,       5,       3,       3,\n",
       "             3,       2,       2,       4,       4,       5,  489994,\n",
       "        658199, 1434425, 1305067,  778568, 1194223, 1281034, 1422287,\n",
       "       1308608, 1239615, 1433582, 1225716,  691713, 1496791,  920295,\n",
       "        591526,  810716,  601277,  717810, 1275430, 1122832,  805515,\n",
       "        485549, 1116145, 1338333, 1498938,  812290,  610400,  894126,\n",
       "        589729,  575464, 1227393, 1082075, 1233808,  783724, 1185270,\n",
       "       1476286,  512455,  907216, 1102940,  914530,  580238,  999449,\n",
       "       1021847, 1287071,  971358,  565094, 1216886, 1190383,  960219,\n",
       "       1100261,  805417, 1147063, 1358002, 1254804, 1406764, 1424880,\n",
       "        952718,  845699,  978472,  787256, 1168306,  803040,  505798,\n",
       "        701161,  893571, 1039644, 1200139, 1183244,  934472,  990947,\n",
       "        969101, 1210602,  915457,  760803, 1304502, 1105464, 1124958,\n",
       "       1125965,  696589,  486153, 1472589, 1409445, 1296762,  709068,\n",
       "       1101713, 1457585,  674601, 1002915,  794049,  855168, 1055984,\n",
       "        985688,  786497, 1338663,  774115,  465723, 1117498, 1196818,\n",
       "       1342711])"
      ]
     },
     "execution_count": 122,
     "metadata": {},
     "output_type": "execute_result"
    }
   ],
   "source": [
    "housedata"
   ]
  },
  {
   "cell_type": "code",
   "execution_count": null,
   "id": "c524ecc6",
   "metadata": {},
   "outputs": [],
   "source": []
  },
  {
   "cell_type": "code",
   "execution_count": null,
   "id": "4763a537",
   "metadata": {},
   "outputs": [],
   "source": []
  }
 ],
 "metadata": {
  "kernelspec": {
   "display_name": "Python 3 (ipykernel)",
   "language": "python",
   "name": "python3"
  },
  "language_info": {
   "codemirror_mode": {
    "name": "ipython",
    "version": 3
   },
   "file_extension": ".py",
   "mimetype": "text/x-python",
   "name": "python",
   "nbconvert_exporter": "python",
   "pygments_lexer": "ipython3",
   "version": "3.12.5"
  }
 },
 "nbformat": 4,
 "nbformat_minor": 5
}
