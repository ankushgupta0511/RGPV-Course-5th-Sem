{
 "cells": [
  {
   "cell_type": "markdown",
   "id": "3543b6e2-dd30-478d-8bf6-6dc959b7e0b2",
   "metadata": {},
   "source": [
    "<h3 style=\"text-align:center;\">Lab 1</h3>"
   ]
  },
  {
   "cell_type": "code",
   "execution_count": 15,
   "id": "eeba96b2-3644-482d-9944-9571826aa7f0",
   "metadata": {},
   "outputs": [],
   "source": [
    "def state_q0(i):\n",
    "    if i in ('a','b'):\n",
    "        globals()['state']='q1'\n",
    "    else:\n",
    "        raise ValueError(\"invalid input symbol\")\n",
    "\n",
    "def state_q1(i):\n",
    "    if i in ('a','b'):\n",
    "        globals()['state']='q2'\n",
    "    else:\n",
    "        raise ValueError(\"invalid input symbol\")\n",
    "\n",
    "def state_q2(i):\n",
    "    if i in ('a','b'):\n",
    "        globals()['state']='q2'\n",
    "    else:\n",
    "        raise ValueError(\"invalid input symbol\")"
   ]
  },
  {
   "cell_type": "code",
   "execution_count": 16,
   "id": "c8e118f4-c5e4-48d3-ae39-aed834bf321d",
   "metadata": {},
   "outputs": [
    {
     "name": "stdin",
     "output_type": "stream",
     "text": [
      "Enter input string containing a&b:  abc\n"
     ]
    },
    {
     "name": "stdout",
     "output_type": "stream",
     "text": [
      "Invalid String\n"
     ]
    }
   ],
   "source": [
    "state = 'q0'\n",
    "input_str = input('Enter input string containing a&b: ')\n",
    "try:\n",
    "    for i in input_str:\n",
    "        if state=='q0':\n",
    "            state_q0(i)\n",
    "        elif state=='q1':\n",
    "            state_q1(i)\n",
    "        else:\n",
    "            state_q2(i)\n",
    "    \n",
    "    if state=='q2':\n",
    "        print(\"String is accepted\")\n",
    "    else:\n",
    "        print(\"String is rejected\")\n",
    "except Exception as e:\n",
    "    print(\"Invalid String\")\n",
    "    "
   ]
  },
  {
   "cell_type": "markdown",
   "id": "34ab6d5e-be88-48cc-8881-e7158c1db397",
   "metadata": {},
   "source": [
    "## WAP to Implement DFA that Accept  of all String Which Start with \"0\" and end with \"1\""
   ]
  },
  {
   "cell_type": "code",
   "execution_count": 21,
   "id": "ae844894-7139-4e1c-bc46-e5a5e732b53d",
   "metadata": {},
   "outputs": [
    {
     "name": "stdin",
     "output_type": "stream",
     "text": [
      "Enter input string containing a&b:  jk7\n"
     ]
    },
    {
     "name": "stdout",
     "output_type": "stream",
     "text": [
      "Invalid String\n"
     ]
    }
   ],
   "source": [
    "def state_q0(i):\n",
    "    if i in ('0','1'):\n",
    "        if i==\"0\":\n",
    "            globals()['state']='q1'\n",
    "        else:\n",
    "            # i==\"1\":\n",
    "            globals()['state']='q3'\n",
    "    else:\n",
    "        raise ValueError(\"invalid input symbol\")\n",
    "\n",
    "def state_q1(i):\n",
    "    if i in ('1','0'):\n",
    "        if i==\"1\":\n",
    "            globals()['state']='q2'\n",
    "        else:\n",
    "            globals()['state']='q1'\n",
    "            \n",
    "    else:\n",
    "        raise ValueError(\"invalid input symbol\")\n",
    "\n",
    "def state_q2(i):\n",
    "    if i in ('0','1'):\n",
    "        if  i==\"1\":\n",
    "            globals()['state']='q2'\n",
    "        else:\n",
    "            globals()['state']='q1'\n",
    "    else:\n",
    "        raise ValueError(\"invalid input symbol\")\n",
    "\n",
    "\n",
    "\n",
    "state = 'q0'\n",
    "input_str = input('Enter input string starting with 0 and ending with 1: ')\n",
    "try:\n",
    "    for i in input_str:\n",
    "        if state=='q0':\n",
    "            state_q0(i)\n",
    "        elif state=='q1':\n",
    "            state_q1(i)\n",
    "        \n",
    "        else:\n",
    "            state_q2(i)\n",
    "    \n",
    "    if state=='q2':\n",
    "        print(\"String is accepted\")\n",
    "    else:\n",
    "        print(\"String is rejected\")\n",
    "except Exception as e:\n",
    "    print(\"Invalid String\")\n",
    "    "
   ]
  },
  {
   "cell_type": "markdown",
   "id": "cefadcde-7d6c-4043-8e49-0cc750a7d989",
   "metadata": {},
   "source": [
    "## WAP to Implement DFA that Accept  of all String Which Interpret as a binary number is divisible by 4"
   ]
  },
  {
   "cell_type": "code",
   "execution_count": 25,
   "id": "76a68508-6b2b-4ff1-8469-e340fb55879c",
   "metadata": {},
   "outputs": [
    {
     "name": "stdin",
     "output_type": "stream",
     "text": [
      "Enter input string as a binary number:  110\n"
     ]
    },
    {
     "name": "stdout",
     "output_type": "stream",
     "text": [
      "String is rejected\n"
     ]
    }
   ],
   "source": [
    "def state_q0(i):\n",
    "    if i in ('0','1'):\n",
    "        if i==\"0\":\n",
    "            globals()['state']='q0'\n",
    "        else:\n",
    "            # i==\"1\":\n",
    "            globals()['state']='q1'\n",
    "    else:\n",
    "        raise ValueError(\"invalid input symbol\")\n",
    "\n",
    "def state_q1(i):\n",
    "    if i in ('1','0'):\n",
    "        if i==\"0\":\n",
    "            globals()['state']='q2'\n",
    "        else:\n",
    "            globals()['state']='q3'\n",
    "            \n",
    "    else:\n",
    "        raise ValueError(\"invalid input symbol\")\n",
    "\n",
    "def state_q2(i):\n",
    "    if i in ('0','1'):\n",
    "        if  i==\"1\":\n",
    "            globals()['state']='q0'\n",
    "        else:\n",
    "            globals()['state']='q1'\n",
    "    else:\n",
    "        raise ValueError(\"invalid input symbol\")\n",
    "\n",
    "def state_q3(i):\n",
    "    if i in ('0','1'):\n",
    "        if  i==\"1\":\n",
    "            globals()['state']='q2'\n",
    "        else:\n",
    "            globals()['state']='q1'\n",
    "    else:\n",
    "        raise ValueError(\"invalid input symbol\")\n",
    "\n",
    "state = 'q0'\n",
    "input_str = input('Enter input string as a binary number: ')\n",
    "try:\n",
    "    for i in input_str:\n",
    "        if state=='q0':\n",
    "            state_q0(i)\n",
    "        elif state=='q1':\n",
    "            state_q1(i)\n",
    "        elif state=='q2':\n",
    "            state_q2(i)\n",
    "        \n",
    "        else:\n",
    "            state_q2(i)\n",
    "    \n",
    "    if state=='q2':\n",
    "        print(\"String is accepted\")\n",
    "    else:\n",
    "        print(\"String is rejected\")\n",
    "except Exception as e:\n",
    "    print(\"Invalid String\")\n",
    "    "
   ]
  },
  {
   "cell_type": "code",
   "execution_count": null,
   "id": "d4c210cd-c9b0-4e07-b18e-4807c03d413e",
   "metadata": {},
   "outputs": [],
   "source": []
  }
 ],
 "metadata": {
  "kernelspec": {
   "display_name": "Python 3 (ipykernel)",
   "language": "python",
   "name": "python3"
  },
  "language_info": {
   "codemirror_mode": {
    "name": "ipython",
    "version": 3
   },
   "file_extension": ".py",
   "mimetype": "text/x-python",
   "name": "python",
   "nbconvert_exporter": "python",
   "pygments_lexer": "ipython3",
   "version": "3.12.4"
  }
 },
 "nbformat": 4,
 "nbformat_minor": 5
}
